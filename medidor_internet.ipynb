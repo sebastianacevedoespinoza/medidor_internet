{
 "cells": [
  {
   "cell_type": "code",
   "execution_count": 1,
   "metadata": {},
   "outputs": [
    {
     "name": "stdout",
     "output_type": "stream",
     "text": [
      "Conectando al servidor más cercano...\n",
      "Midiendo la velocidad de descarga...\n",
      "Midiendo la velocidad de subida...\n",
      "Velocidad de descarga: 869.97 Mbps\n",
      "Velocidad de subida: 564.42 Mbps\n",
      "Latencia: 8.56 ms\n"
     ]
    }
   ],
   "source": [
    "import speedtest\n",
    "import sys\n",
    "\n",
    "try:\n",
    "    # Crear una instancia del medidor\n",
    "    st = speedtest.Speedtest()\n",
    "\n",
    "    # Obtener la velocidad de descarga, subida y ping\n",
    "    print(\"Conectando al servidor más cercano...\")\n",
    "    st.get_best_server()\n",
    "\n",
    "    print(\"Midiendo la velocidad de descarga...\")\n",
    "    download_speed = st.download() / 1_000_000  # Convertir a Mbps\n",
    "\n",
    "    print(\"Midiendo la velocidad de subida...\")\n",
    "    upload_speed = st.upload() / 1_000_000  # Convertir a Mbps\n",
    "\n",
    "    # Obtener la latencia (ping)\n",
    "    ping = st.results.ping\n",
    "\n",
    "    # Mostrar los resultados\n",
    "    print(f\"Velocidad de descarga: {download_speed:.2f} Mbps\")\n",
    "    print(f\"Velocidad de subida: {upload_speed:.2f} Mbps\")\n",
    "    print(f\"Latencia: {ping:.2f} ms\")\n",
    "\n",
    "except speedtest.ConfigRetrievalError as e:\n",
    "    print(f\"Error al obtener la configuración: {e}\")\n",
    "    sys.exit(1)\n",
    "except speedtest.SpeedtestException as e:\n",
    "    print(f\"Error al realizar la prueba de velocidad: {e}\")\n",
    "    sys.exit(1)\n",
    "except Exception as e:\n",
    "    print(f\"Se produjo un error inesperado: {e}\")\n",
    "    sys.exit(1)\n"
   ]
  }
 ],
 "metadata": {
  "kernelspec": {
   "display_name": "Python 3",
   "language": "python",
   "name": "python3"
  },
  "language_info": {
   "codemirror_mode": {
    "name": "ipython",
    "version": 3
   },
   "file_extension": ".py",
   "mimetype": "text/x-python",
   "name": "python",
   "nbconvert_exporter": "python",
   "pygments_lexer": "ipython3",
   "version": "3.11.7"
  }
 },
 "nbformat": 4,
 "nbformat_minor": 2
}
